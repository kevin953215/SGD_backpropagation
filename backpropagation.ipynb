{
 "cells": [
  {
   "cell_type": "code",
   "execution_count": 1,
   "id": "juvenile-letter",
   "metadata": {},
   "outputs": [],
   "source": [
    "import numpy as np\n",
    "import random"
   ]
  },
  {
   "cell_type": "code",
   "execution_count": 2,
   "id": "varying-shaft",
   "metadata": {},
   "outputs": [],
   "source": [
    "#定義sigmoid function\n",
    "def sigmoid(x):\n",
    "    return 1/(1+np.exp(-x))\n",
    "#定義sigmoid function 的微分\n",
    "def sigmoid_(x):\n",
    "    return sigmoid(x)*(1-sigmoid(x))\n",
    "#定義loss function\n",
    "def loss(yt,yp):\n",
    "    return 0.5*np.sum((yt-yp)**2)"
   ]
  },
  {
   "cell_type": "code",
   "execution_count": 3,
   "id": "portable-runner",
   "metadata": {},
   "outputs": [],
   "source": [
    "#training data,X代表點座標(x,y) ex:第一個點為(0.1,0.1)\n",
    "#y若=[1,0]代表該點有石油,y若=[0,1]代表該點沒有石油\n",
    "X=np.array([[0.1, 0.3 ,0.1 ,0.6 ,0.4 ,0.6 ,0.5 ,0.9 ,0.4 ,0.7],[0.1 ,0.4 ,0.5 ,0.9 ,0.2 ,0.3 ,0.6 ,0.2 ,0.4 ,0.6]])\n",
    "y=np.array([[1, 1, 1, 1, 1, 0, 0, 0, 0, 0],[0, 0, 0, 0, 0, 1, 1, 1, 1, 1]])\n",
    "tol=1e-6\n",
    "eta=0.05 #learning rate\n",
    "Niter=1e6"
   ]
  },
  {
   "cell_type": "code",
   "execution_count": 4,
   "id": "urban-owner",
   "metadata": {},
   "outputs": [],
   "source": [
    "def nnmodel(x,W1,W2,W3,b1,b2,b3):\n",
    "    Z1=np.reshape(W1.dot(x),(2,1))+b1\n",
    "    a1=sigmoid(Z1)\n",
    "    Z2=W2.dot(a1)+b2\n",
    "    a2=sigmoid(Z2)\n",
    "    Z3=W3.dot(a2)+b3\n",
    "    a3=sigmoid(Z3)\n",
    "    return a3\n",
    "#搭建並初始化網路模型(此處網路共有1層input layer,2層 hiddenlayer,1層output layer,activation function統一採用sigmoid)\n",
    "\n",
    "#初始化:\n",
    "np.random.seed(6000)\n",
    "W1=0.5*np.random.randn(2,2)\n",
    "W2=0.5*np.random.randn(3,2)\n",
    "W3=0.5*np.random.randn(2,3)\n",
    "b1=0.5*np.random.randn(2,1)\n",
    "b2=0.5*np.random.randn(3,1)\n",
    "b3=0.5*np.random.randn(2,1)\n",
    "\n",
    "#開始搭建:\n",
    "history=[]\n",
    "cnt=0\n",
    "while(cnt<Niter):\n",
    "    cnt+=1\n",
    "    k = np.random.randint(0,10)\n",
    "    tempx=np.reshape(np.array((X[0][k],X[1][k])),(2,1))\n",
    "    tempy=np.reshape(np.array((y[0][k],y[1][k])),(2,1))\n",
    "    #forward pass\n",
    "    Z1=np.reshape(W1.dot(tempx),(2,1))+b1\n",
    "    a1=sigmoid(Z1)\n",
    "    Z2=W2.dot(a1)+b2\n",
    "    a2=sigmoid(Z2)\n",
    "    Z3=W3.dot(a2)+b3\n",
    "    a3=sigmoid(Z3)\n",
    "    #backward pass\n",
    "    delta3=sigmoid_(Z3)*(a3-tempy)\n",
    "    delta2=sigmoid_(Z2)*(W3.T.dot(delta3))\n",
    "    delta1=sigmoid_(Z1)*(W2.T.dot(delta2))\n",
    "    #更新權重\n",
    "    W1=W1-eta*(delta1.dot(tempx.T))\n",
    "    b1=b1-eta*delta1\n",
    "    W2=W2-eta*(delta2.dot(a1.T))\n",
    "    b2=b2-eta*delta2\n",
    "    W3=W3-eta*(delta3.dot(a2.T))\n",
    "    b3=b3-eta*delta3\n",
    "    \n",
    "    history.append(loss(tempy,nnmodel(tempx,W1,W2,W3,b1,b2,b3)))\n",
    "    if history[cnt-1]<tol:\n",
    "        break"
   ]
  },
  {
   "cell_type": "code",
   "execution_count": 5,
   "id": "combined-reverse",
   "metadata": {},
   "outputs": [
    {
     "name": "stdout",
     "output_type": "stream",
     "text": [
      "[[0.99859685]\n",
      " [0.00133764]]\n",
      "\n",
      "[[0.94002088]\n",
      " [0.0594977 ]]\n",
      "\n",
      "[[9.98960475e-01]\n",
      " [9.57520877e-04]]\n",
      "\n",
      "[[0.9683271 ]\n",
      " [0.03082675]]\n",
      "\n",
      "[[0.96023561]\n",
      " [0.03968734]]\n",
      "\n",
      "[[0.00425682]\n",
      " [0.9958744 ]]\n",
      "\n",
      "[[0.02694572]\n",
      " [0.97322697]]\n",
      "\n",
      "[[0.00164798]\n",
      " [0.99842942]]\n",
      "\n",
      "[[0.08897313]\n",
      " [0.91166766]]\n",
      "\n",
      "[[0.00227945]\n",
      " [0.99780338]]\n",
      "\n"
     ]
    }
   ],
   "source": [
    "#用training data做測試\n",
    "for i in range(10):\n",
    "    tpx=np.reshape(np.array((X[0][i],X[1][i])),(2,1))\n",
    "    print(nnmodel(tpx,W1,W2,W3,b1,b2,b3))\n",
    "    print()"
   ]
  },
  {
   "cell_type": "code",
   "execution_count": 6,
   "id": "western-mercury",
   "metadata": {},
   "outputs": [],
   "source": [
    "N = 500;\n",
    "xpts = np.linspace(0,1,N+1)\n",
    "ypts = np.linspace(0,1,N+1)\n",
    "[XX,YY] = np.meshgrid(xpts,ypts)\n",
    "gridpts=np.array([np.ravel(XX),np.ravel(YY)])\n",
    "Binary=[]\n",
    "for i in range(251001):\n",
    "    tpx=np.reshape(np.array((gridpts[0][i],gridpts[1][i])),(2,1))\n",
    "    Binary.append(nnmodel(tpx,W1,W2,W3,b1,b2,b3))\n",
    "Binary=np.round(Binary)\n",
    "Binary=np.reshape(Binary[:,0,:],(501,501))"
   ]
  },
  {
   "cell_type": "code",
   "execution_count": 7,
   "id": "rotary-peripheral",
   "metadata": {},
   "outputs": [
    {
     "data": {
      "text/plain": [
       "[<matplotlib.lines.Line2D at 0x17c7b331670>,\n",
       " <matplotlib.lines.Line2D at 0x17c7b3316d0>,\n",
       " <matplotlib.lines.Line2D at 0x17c7b331790>,\n",
       " <matplotlib.lines.Line2D at 0x17c7b331850>,\n",
       " <matplotlib.lines.Line2D at 0x17c7b331910>]"
      ]
     },
     "execution_count": 7,
     "metadata": {},
     "output_type": "execute_result"
    },
    {
     "data": {
      "image/png": "[encoded data removed]",
      "text/plain": [
       "<Figure size 432x288 with 1 Axes>"
      ]
     },
     "metadata": {
      "needs_background": "light"
     },
     "output_type": "display_data"
    }
   ],
   "source": [
    "#繪製等高線圖\n",
    "import matplotlib.pyplot as plt\n",
    "plt.title(\"Data visualization\")\n",
    "plt.contourf(XX, YY, Binary)\n",
    "plt.plot([X[0][0:5]],[X[1][0:5]],'ro', markersize=10)\n",
    "plt.plot([X[0][5:10]],[X[1][5:10]],'wx',markersize=10)"
   ]
  },
  {
   "cell_type": "code",
   "execution_count": null,
   "id": "facial-physics",
   "metadata": {},
   "outputs": [],
   "source": []
  }
 ],
 "metadata": {
  "kernelspec": {
   "display_name": "tf24",
   "language": "python",
   "name": "tf24"
  },
  "language_info": {
   "codemirror_mode": {
    "name": "ipython",
    "version": 3
   },
   "file_extension": ".py",
   "mimetype": "text/x-python",
   "name": "python",
   "nbconvert_exporter": "python",
   "pygments_lexer": "ipython3",
   "version": "3.8.5"
  }
 },
 "nbformat": 4,
 "nbformat_minor": 5
}
